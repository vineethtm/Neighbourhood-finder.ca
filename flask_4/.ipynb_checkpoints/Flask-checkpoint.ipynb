{
 "cells": [
  {
   "cell_type": "code",
   "execution_count": 2,
   "metadata": {},
   "outputs": [],
   "source": [
    "import pandas as pd\n",
    "import numpy as np\n",
    "import matplotlib.pyplot as plt\n",
    "import seaborn as sns\n",
    "import random\n",
    "import geopandas as gpd\n",
    "from shapely.geometry import Point,Polygon\n",
    "from sklearn.preprocessing import StandardScaler\n",
    "from sklearn.decomposition import PCA\n",
    "from sklearn.pipeline import make_pipeline\n",
    "from sklearn.cluster import KMeans"
   ]
  },
  {
   "cell_type": "markdown",
   "metadata": {},
   "source": [
    "## Define the functions"
   ]
  },
  {
   "cell_type": "code",
   "execution_count": 7,
   "metadata": {},
   "outputs": [],
   "source": [
    "def dict_to_df(path,neighbourhood):\n",
    "    '''This function reads stored dictionaries from google api search and convert to a dataframe\n",
    "    Arguments\n",
    "    Input \n",
    "    path: path of the dictionary\n",
    "    neighbourhood: neighbourhood dataframe containing census data\n",
    "    Returns\n",
    "    df: converted dataframe\n",
    "    '''\n",
    "    dictionary=np.load(path,allow_pickle=True).item()\n",
    "    names=[]\n",
    "    counts=[]\n",
    "    for key,val in dictionary.items():\n",
    "        names.append(key)\n",
    "        counts.append(len(val['results']))\n",
    "    df=pd.DataFrame({'name':names,'count':counts})\n",
    "    df=df.sort_values(by=['name'])\n",
    "    df.index=neighbourhood.index\n",
    "    df=df.drop(['name'],axis=1)\n",
    "    return df\n"
   ]
  },
  {
   "cell_type": "code",
   "execution_count": 8,
   "metadata": {},
   "outputs": [],
   "source": [
    "def col_select(df,column_to_compare,n):\n",
    "    '''This function compares a column agains all column of another dataframe and select high correlated columns\n",
    "    Input\n",
    "    df: dataframe whose columns are being compared\n",
    "    column_to_compare: a column against which other columns are compared\n",
    "    n: number of colums to keep\n",
    "    Returns\n",
    "    col_df: a dataframe with highly correlated columns & values\n",
    "    '''\n",
    "    correlations=[]\n",
    "    for col in df.columns:\n",
    "        cor=df[col].corr(column_to_compare,method='spearman')\n",
    "        correlations.append(cor)\n",
    "    abs_correlations=[abs(val) for val in correlations]\n",
    "    col_selected_df=pd.DataFrame({'feature':df.columns,'correlation':correlations,'abs':abs_correlations})\n",
    "    col_selected_df=col_selected_df.sort_values(by=['abs'],ascending=False)\n",
    "    col_selected_df=col_selected_df.iloc[0:n,:]\n",
    "    return col_selected_df"
   ]
  },
  {
   "cell_type": "code",
   "execution_count": 9,
   "metadata": {},
   "outputs": [],
   "source": [
    "def sel_n_pca(df,col_selected):\n",
    "    ''' This function determines the number of pca components required to explain at least 95% of variance\n",
    "    Input\n",
    "    df: Input dataframe\n",
    "    col_selected: name of the column of the dataframe to be used\n",
    "    Returns:\n",
    "    pca_components: principal components \n",
    "    i: number of components that explains 95% variance\n",
    "    '''\n",
    "    subset=df[col_selected]\n",
    "    scaler = StandardScaler()\n",
    "    pca = PCA()\n",
    "    pipeline = make_pipeline(scaler,pca)\n",
    "    pipeline.fit(subset)\n",
    "    pca_components=pipeline.transform(subset)\n",
    "    features = range(pca_components.shape[1])\n",
    "    explained_var=pca.explained_variance_/sum(pca.explained_variance_)*100\n",
    "    \n",
    "    explained_sum=0\n",
    "    for i in range(1,(len(explained_var)+1)):\n",
    "        explained_sum=explained_sum+explained_var[i-1]\n",
    "        if explained_sum>95:\n",
    "            break\n",
    "    return pca_components,i"
   ]
  },
  {
   "cell_type": "code",
   "execution_count": 10,
   "metadata": {},
   "outputs": [],
   "source": [
    "def sel_num_clust(pca_components,n_components):\n",
    "    '''This function accepts principal components matrix and number of components to use\n",
    "    It performs kmeans clustering with different number of clusters and select the optimum number\n",
    "    of clusters\n",
    "    Input:\n",
    "    pca_components: pca_components after pca transformation\n",
    "    n_components: n components that explains at least 95% of variation\n",
    "    \n",
    "    '''\n",
    "    inertias = []\n",
    "    for k in range(1, 21):\n",
    "        kmeans = KMeans(n_clusters=k, init='random',n_init=100)\n",
    "        kmeans.fit(pca_components[:,0:n_components])\n",
    "        inertias.append(kmeans.inertia_)\n",
    "    diff=abs(np.diff(inertias))\n",
    "    diff_first=diff[0]\n",
    "    threshold=diff_first*.05\n",
    "    for i in range(1,len(diff)):\n",
    "        if diff[i]<threshold:\n",
    "            return i\n",
    "            break"
   ]
  },
  {
   "cell_type": "code",
   "execution_count": 32,
   "metadata": {},
   "outputs": [],
   "source": [
    "def plot_map(pca_components,n_components,n_clust,neighbourhood,df_toronto,query_df):\n",
    "    ''' This function plots toronto neighbourhoods together with the counts for the search query.\n",
    "    Two neighbourhoods has the same color if they are in the same cluster\n",
    "    Input:\n",
    "    pca_components: Pca components after PCA transformation\n",
    "    n_compoments: number of PCA components to be used\n",
    "    neighbourhood: census dataframe\n",
    "    df_toronto: map dataframe\n",
    "    query_df: query dataframe\n",
    "    Returns:\n",
    "    cluster_labels: A dataframe containing the label and color of each neighbourhood\n",
    "    \n",
    "    '''    \n",
    "    X=pca_components[:,0:n_components]\n",
    "    kmeans = KMeans(n_clusters=n_clust, init='random',n_init=100).fit(X)\n",
    "    cluster_labels=pd.DataFrame({'name':neighbourhood.index,'label':kmeans.labels_})\n",
    "    color_selected = color_shortlisted[0:n_clust]\n",
    "    cluster_labels['color']=cluster_labels['label'].map(dict(zip(range(n_clust),color_selected)))\n",
    "    geo_query=gpd.GeoDataFrame(query_df,geometry=geometry_points)\n",
    "    fig,ax=plt.subplots(figsize=(15,15))\n",
    "    df_toronto.plot(ax=ax,edgecolor='black',alpha=0.5,color=cluster_labels['color'],legend=True)\n",
    "    geo_query.plot(ax=ax,markersize=geo_query['count']*10,alpha=.5)\n",
    "    plt.savefig('./static/1.cluster_map.png',transparent=True,bbox_inches=\"tight\",dpi=300)\n",
    "    plt.close()\n",
    "    return cluster_labels"
   ]
  },
  {
   "cell_type": "code",
   "execution_count": 34,
   "metadata": {},
   "outputs": [],
   "source": [
    "def plot_cluster_counts(cluster_labels):\n",
    "    ''' This function plots the number of neighbourhoods in each cluster\n",
    "    Input:\n",
    "    cluster_labels: A dataframe containing neighbourhoods and their cluster labels\n",
    "    Returns:\n",
    "    None\n",
    "    '''\n",
    "    cluster_counts=cluster_labels['color'].value_counts()\n",
    "    plt.bar(height=cluster_counts,x=cluster_counts.index,color=cluster_counts.index)\n",
    "    plt.grid(True)\n",
    "    plt.savefig('./static/2.cluster_counts.png',transparent=True,bbox_inches=\"tight\",dpi=300)\n",
    "    plt.close()"
   ]
  },
  {
   "cell_type": "code",
   "execution_count": 36,
   "metadata": {},
   "outputs": [],
   "source": [
    "def plot_count_distribution(query_df,cluster_labels):\n",
    "    ''' The function plot the distribution of query counts in each cluster\n",
    "    Input:\n",
    "    query_df: query count dataframe\n",
    "    cluster_labels: dataframe containing neighbourhoods and clusters\n",
    "    Returns:\n",
    "    None\n",
    "    '''\n",
    "    query_df['color']=cluster_labels['color'].values\n",
    "    ax = sns.boxplot(x=\"color\", y=\"count\",data=query_df,order=cluster_labels['color'].unique(),palette=cluster_labels['color'].unique())\n",
    "    plt.savefig('./static/3.count_distribution.png',transparent=True,bbox_inches=\"tight\",dpi=300)\n",
    "    plt.close()"
   ]
  },
  {
   "cell_type": "code",
   "execution_count": 48,
   "metadata": {},
   "outputs": [],
   "source": [
    "def plot_feature_median(neighbourhood,cols_selected,cluster_labels):\n",
    "    '''This functions calculate and plot the median values of important features in each cluster\n",
    "    Input:\n",
    "    neighbourhood: Original census dataframe\n",
    "    col_selected: highly correlated columns \n",
    "    cluster_labels: neighbourhood dataframe containing labels\n",
    "    Output:\n",
    "    None\n",
    "    \n",
    "    '''\n",
    "    subset_label=neighbourhood[cols_selected]\n",
    "    subset_label['label']=cluster_labels['color'].values\n",
    "    cluster_median=subset_label.groupby('label').median()\n",
    "    n_plots=len(cluster_median.columns)\n",
    "    rows=int((n_plots+(n_plots%2))/2)\n",
    "    fig,ax=plt.subplots(rows,2,figsize=(20,15))\n",
    "    i=0\n",
    "\n",
    "    for m in range(len(cluster_median.columns)):\n",
    "        j=int(m%2)\n",
    "        i=int(m/2)\n",
    "        sns.barplot(y=cluster_median.iloc[:,m],x=cluster_median.index,palette=cluster_median.index,ax=ax[i,j])\n",
    "    plt.savefig('./static/4.feature_median.png',transparent=True,bbox_inches=\"tight\",dpi=300)\n",
    "    plt.close()"
   ]
  },
  {
   "cell_type": "code",
   "execution_count": 15,
   "metadata": {},
   "outputs": [],
   "source": [
    "neighbourhood=pd.read_csv('./static/data/neighbourhood_cleaned.csv',sep=',',index_col=0)\n",
    "df_toronto=gpd.read_file(\"./static/data/Neighbourhoods.geojson\")\n",
    "df_toronto=df_toronto.sort_values(by=['AREA_NAME'])\n",
    "geometry_points=[Point(xy) for xy in zip(df_toronto['LONGITUDE'],df_toronto['LATITUDE'])]\n",
    "color_shortlisted=['red','blue','firebrick','orange','olive','deepskyblue','yellowgreen','cyan','magenta','chocolate']\n",
    "stored_dict=pd.read_csv('./static/data/stored_dict.csv',sep=',',index_col=0)"
   ]
  },
  {
   "cell_type": "code",
   "execution_count": 19,
   "metadata": {},
   "outputs": [
    {
     "name": "stdout",
     "output_type": "stream",
     "text": [
      "Enter the query: indian restaurant\n"
     ]
    }
   ],
   "source": [
    "query=input('Enter the query: ')\n",
    "query=query.lower()\n",
    "if query in stored_dict.index.tolist():\n",
    "    query_df=dict_to_df('./static/google_api/'+stored_dict.loc[query].values[0],neighbourhood)\n",
    "else:\n",
    "    print(\"Kindly select one of the following\",stored_dict.index.tolist())"
   ]
  },
  {
   "cell_type": "code",
   "execution_count": 22,
   "metadata": {},
   "outputs": [
    {
     "data": {
      "text/html": [
       "<div>\n",
       "<style scoped>\n",
       "    .dataframe tbody tr th:only-of-type {\n",
       "        vertical-align: middle;\n",
       "    }\n",
       "\n",
       "    .dataframe tbody tr th {\n",
       "        vertical-align: top;\n",
       "    }\n",
       "\n",
       "    .dataframe thead th {\n",
       "        text-align: right;\n",
       "    }\n",
       "</style>\n",
       "<table border=\"1\" class=\"dataframe\">\n",
       "  <thead>\n",
       "    <tr style=\"text-align: right;\">\n",
       "      <th></th>\n",
       "      <th>count</th>\n",
       "    </tr>\n",
       "  </thead>\n",
       "  <tbody>\n",
       "    <tr>\n",
       "      <th>Agincourt North</th>\n",
       "      <td>16</td>\n",
       "    </tr>\n",
       "    <tr>\n",
       "      <th>Agincourt South-Malvern West</th>\n",
       "      <td>12</td>\n",
       "    </tr>\n",
       "  </tbody>\n",
       "</table>\n",
       "</div>"
      ],
      "text/plain": [
       "                              count\n",
       "Agincourt North                  16\n",
       "Agincourt South-Malvern West     12"
      ]
     },
     "execution_count": 22,
     "metadata": {},
     "output_type": "execute_result"
    }
   ],
   "source": [
    "query_df.head(2)"
   ]
  },
  {
   "cell_type": "code",
   "execution_count": 26,
   "metadata": {},
   "outputs": [],
   "source": [
    "highly_correlated_features_df=col_select(neighbourhood,query_df['count'],10)\n",
    "pca_components,n_components=sel_n_pca(neighbourhood,highly_correlated_features['feature'])\n",
    "n_clust=sel_num_clust(pca_components,n_components)"
   ]
  },
  {
   "cell_type": "code",
   "execution_count": 27,
   "metadata": {},
   "outputs": [
    {
     "data": {
      "text/plain": [
       "5"
      ]
     },
     "execution_count": 27,
     "metadata": {},
     "output_type": "execute_result"
    }
   ],
   "source": [
    "n_clust"
   ]
  },
  {
   "cell_type": "code",
   "execution_count": 33,
   "metadata": {},
   "outputs": [],
   "source": [
    "cluster_labels=plot_map(pca_components,n_components,n_clust,neighbourhood,df_toronto,query_df)"
   ]
  },
  {
   "cell_type": "code",
   "execution_count": 35,
   "metadata": {},
   "outputs": [],
   "source": [
    "plot_cluster_counts(cluster_labels)"
   ]
  },
  {
   "cell_type": "code",
   "execution_count": 37,
   "metadata": {},
   "outputs": [],
   "source": [
    "plot_count_distribution(query_df,cluster_labels)"
   ]
  },
  {
   "cell_type": "code",
   "execution_count": 47,
   "metadata": {},
   "outputs": [
    {
     "name": "stderr",
     "output_type": "stream",
     "text": [
      "/Users/Vineeth/anaconda3/lib/python3.7/site-packages/ipykernel_launcher.py:12: SettingWithCopyWarning: \n",
      "A value is trying to be set on a copy of a slice from a DataFrame.\n",
      "Try using .loc[row_indexer,col_indexer] = value instead\n",
      "\n",
      "See the caveats in the documentation: http://pandas.pydata.org/pandas-docs/stable/indexing.html#indexing-view-versus-copy\n",
      "  if sys.path[0] == '':\n"
     ]
    }
   ],
   "source": [
    "plot_feature_median(neighbourhood,highly_correlated_features['feature'],cluster_labels)"
   ]
  },
  {
   "cell_type": "code",
   "execution_count": null,
   "metadata": {},
   "outputs": [],
   "source": []
  }
 ],
 "metadata": {
  "kernelspec": {
   "display_name": "Python 3",
   "language": "python",
   "name": "python3"
  },
  "language_info": {
   "codemirror_mode": {
    "name": "ipython",
    "version": 3
   },
   "file_extension": ".py",
   "mimetype": "text/x-python",
   "name": "python",
   "nbconvert_exporter": "python",
   "pygments_lexer": "ipython3",
   "version": "3.7.3"
  }
 },
 "nbformat": 4,
 "nbformat_minor": 2
}
